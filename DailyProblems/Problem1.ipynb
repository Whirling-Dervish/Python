{
 "cells": [
  {
   "cell_type": "markdown",
   "metadata": {},
   "source": [
    "# Problem 1"
   ]
  },
  {
   "cell_type": "markdown",
   "metadata": {},
   "source": [
    "This problem was recently asked by Google.\n",
    "\n",
    "<li>Given a list of numbers and a number k, return whether any two numbers from the list add up to k.\n",
    "<li>For example, given [10, 15, 3, 7] and k of 17, return true since 10 + 7 is 17.\n",
    "<li>Bonus: Can you do this in one pass?"
   ]
  },
  {
   "cell_type": "markdown",
   "metadata": {},
   "source": [
    "# Solution"
   ]
  },
  {
   "cell_type": "markdown",
   "metadata": {},
   "source": [
    "#### a. Brute force way would involve a nested iteration to check for every pair of numbers:\n",
    "<li> Complexity :  O(N<sup>2</sup>)"
   ]
  },
  {
   "cell_type": "code",
   "execution_count": 3,
   "metadata": {},
   "outputs": [],
   "source": [
    "def two_sum(lst, k):\n",
    "    for i in range(len(lst)):\n",
    "        for j in range(len(lst)):\n",
    "            if i != j and lst[i] + lst[j] == k:\n",
    "                return True\n",
    "    return False"
   ]
  },
  {
   "cell_type": "code",
   "execution_count": 4,
   "metadata": {},
   "outputs": [],
   "source": [
    "lst = [10, 15, 3, 7]\n",
    "k = 17"
   ]
  },
  {
   "cell_type": "code",
   "execution_count": 5,
   "metadata": {},
   "outputs": [],
   "source": [
    "res = two_sum(lst,k)"
   ]
  },
  {
   "cell_type": "code",
   "execution_count": 7,
   "metadata": {},
   "outputs": [
    {
     "name": "stdout",
     "output_type": "stream",
     "text": [
      "Numbers add up to  17\n"
     ]
    }
   ],
   "source": [
    "if res :\n",
    "    print( 'Numbers add up to ' , k)\n",
    "else:\n",
    "    print('Sorry')"
   ]
  },
  {
   "cell_type": "markdown",
   "metadata": {},
   "source": [
    "####  b.  Another way is to use a set to remember the numbers we've seen so far. \n",
    "####  Then for a given number, we can check if there is another number that, if added, would sum to k.\n",
    "#### <li> Complexity :  O(N)"
   ]
  },
  {
   "cell_type": "code",
   "execution_count": 9,
   "metadata": {},
   "outputs": [],
   "source": [
    "def two_sum2(lst, k):\n",
    "    seen = set()\n",
    "    for num in lst:\n",
    "        if k - num in seen:\n",
    "            return True\n",
    "        seen.add(num)\n",
    "    return False\n"
   ]
  },
  {
   "cell_type": "code",
   "execution_count": 10,
   "metadata": {},
   "outputs": [],
   "source": [
    "res = two_sum2(lst,k)"
   ]
  },
  {
   "cell_type": "code",
   "execution_count": 11,
   "metadata": {},
   "outputs": [
    {
     "name": "stdout",
     "output_type": "stream",
     "text": [
      "Numbers add up to  17\n"
     ]
    }
   ],
   "source": [
    "if res :\n",
    "    print( 'Numbers add up to ' , k)\n",
    "else:\n",
    "    print('Sorry')"
   ]
  },
  {
   "cell_type": "markdown",
   "metadata": {},
   "source": [
    "#### C. Yet another solution involves sorting the list. We can then iterate through the list and run a binary search on K - lst[i]. Since we run binary search on N elements, this would take O(N log N) with O(1) space."
   ]
  },
  {
   "cell_type": "code",
   "execution_count": 12,
   "metadata": {},
   "outputs": [],
   "source": [
    "from bisect import bisect_left"
   ]
  },
  {
   "cell_type": "code",
   "execution_count": 13,
   "metadata": {},
   "outputs": [],
   "source": [
    "def two_sum3(lst, K):\n",
    "    lst.sort()\n",
    "\n",
    "    for i in range(len(lst)):\n",
    "        target = K - lst[i]\n",
    "        j = binary_search(lst, target)\n",
    "\n",
    "        # Check that binary search found the target and that it's not in the same index\n",
    "        # as i. If it is in the same index, we can check lst[i + 1] and lst[i - 1] to see\n",
    "        #  if there's another number that's the same value as lst[i].\n",
    "        if j == -1:\n",
    "            continue\n",
    "        elif j != i:\n",
    "            return True\n",
    "        elif j + 1 < len(lst) and lst[j + 1] == target:\n",
    "            return True\n",
    "        elif j - 1 >= 0 and lst[j - 1] == target:\n",
    "            return True\n",
    "    return False"
   ]
  },
  {
   "cell_type": "code",
   "execution_count": 14,
   "metadata": {},
   "outputs": [],
   "source": [
    "def binary_search(lst, target):\n",
    "    lo = 0\n",
    "    hi = len(lst)\n",
    "    ind = bisect_left(lst, target, lo, hi)\n",
    "\n",
    "    if 0 <= ind < hi and lst[ind] == target:\n",
    "        return ind\n",
    "    return -1"
   ]
  },
  {
   "cell_type": "code",
   "execution_count": 15,
   "metadata": {},
   "outputs": [],
   "source": [
    "res = two_sum3(lst,k)"
   ]
  },
  {
   "cell_type": "code",
   "execution_count": 16,
   "metadata": {},
   "outputs": [
    {
     "name": "stdout",
     "output_type": "stream",
     "text": [
      "Numbers add up to  17\n"
     ]
    }
   ],
   "source": [
    "if res :\n",
    "    print( 'Numbers add up to ' , k)\n",
    "else:\n",
    "    print('Sorry')"
   ]
  },
  {
   "cell_type": "markdown",
   "metadata": {},
   "source": [
    "### Good Job!"
   ]
  }
 ],
 "metadata": {
  "kernelspec": {
   "display_name": "Python 3.7.3 64-bit",
   "language": "python",
   "name": "python37364bit89d9eb34e733481597648e006c232a5c"
  },
  "language_info": {
   "codemirror_mode": {
    "name": "ipython",
    "version": 3
   },
   "file_extension": ".py",
   "mimetype": "text/x-python",
   "name": "python",
   "nbconvert_exporter": "python",
   "pygments_lexer": "ipython3",
   "version": "3.7.3"
  }
 },
 "nbformat": 4,
 "nbformat_minor": 4
}
